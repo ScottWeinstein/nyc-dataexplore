{
 "cells": [
  {
   "cell_type": "code",
   "execution_count": null,
   "id": "babfefec-50c3-453b-a1ca-5d616f3e275f",
   "metadata": {},
   "outputs": [],
   "source": [
    "!pipenv install pandas\n",
    "!pipenv install json\n",
    "!pipenv install Pyarrow \n",
    "!pipenv install matplotlib\n",
    "!pipenv install python-dotenv"
   ]
  },
  {
   "cell_type": "code",
   "execution_count": null,
   "id": "dac07c94",
   "metadata": {},
   "outputs": [],
   "source": [
    "import requests\n",
    "import pandas as pd\n",
    "import os\n",
    "import pandas as pd\n",
    "import json as json\n",
    "import numpy as np\n",
    "import matplotlib as mpl\n",
    "import matplotlib.pyplot as plt\n",
    "from datetime import datetime\n",
    "from dotenv import load_dotenv"
   ]
  },
  {
   "cell_type": "code",
   "execution_count": null,
   "id": "31182c42-ba62-4be9-b101-e415fc25c23d",
   "metadata": {},
   "outputs": [],
   "source": [
    "data_dir = 'data'\n",
    "data = []\n",
    "for file in [file for file in os.listdir(data_dir) if file.endswith('.json') and file != 'taxids.json']:\n",
    "    file_path = os.path.join(data_dir, file)\n",
    "    with open(file_path, 'r') as f:\n",
    "        data.append(json.load(f))\n",
    "df = pd.DataFrame(data)\n",
    "df.to_pickle('data/staff.pkl')\n",
    "del data"
   ]
  },
  {
   "cell_type": "code",
   "execution_count": null,
   "id": "79bf56bf-227e-4039-ae58-ab20d91e276f",
   "metadata": {
    "scrolled": true
   },
   "outputs": [],
   "source": [
    "counts = df.groupby(by=\"Command\").size( )\n",
    "for index, value in counts.items():\n",
    "    print(f\"Index : {index}, Value : {value}\") if index.startswith('077') or 'TRAF' in index or \"TRANSP\" in index  else None\n"
   ]
  },
  {
   "cell_type": "code",
   "execution_count": null,
   "id": "74b80ce8",
   "metadata": {},
   "outputs": [],
   "source": [
    "# read from pickle if it exists and is less than 1 week old\n",
    "pct = '077'\n",
    "pklFile =  f'data/{pct}.pkl'\n",
    "\n",
    "if (os.path.exists(pklFile) and datetime.now().timestamp() - os.stat(pklFile).st_mtime < 7*24*60*60):\n",
    "    vdf = pd.read_pickle(pklFile)\n",
    "else:\n",
    "    os.remove(pklFile) if os.path.exists(pklFile) else None\n",
    "    load_dotenv('env.local')\n",
    "    app_token = os.environ['APP_TOKEN']\n",
    "    limit = 5000\n",
    "    offset = 0\n",
    "    cols = [\"license_type\",\"summons_number\",\"issue_date\",\"violation_time\",\"violation\",\"precinct\",\"county\",\"issuing_agency\",\"violation_status\"]\n",
    "    data = []\n",
    "    success = False\n",
    "    while True:\n",
    "        url = f\"https://data.cityofnewyork.us/resource/nc67-uf89.json?precinct={pct}&$$app_token={app_token}&$limit={limit}&$offset={offset}&$order=summons_number\"\n",
    "        response = requests.get(url)\n",
    "        if response.status_code == 200:\n",
    "            data.extend(response.json())\n",
    "            if len(response.json()) < limit:\n",
    "                success = True\n",
    "                break\n",
    "            else:\n",
    "                offset += limit\n",
    "        else:\n",
    "            print(f\"Failed to fetch data. HTTP Status Code: {response.status_code}\")\n",
    "            break\n",
    "    if success:\n",
    "        vdf = pd.DataFrame(data)\n",
    "        vdf.to_pickle(pklFile)\n",
    "        del data\n",
    "vdf['idate'] = pd.to_datetime(vdf['issue_date'], errors='coerce')\n",
    "vdf['Year'] = vdf['idate'].dt.year.astype('Int64')\n",
    "#\"issue_date\",\n",
    "ssvdf = vdf[[\"license_type\",\"summons_number\",\"idate\", \"Year\",\"violation_time\",\"violation\",\"precinct\",\"county\",\"issuing_agency\",\"violation_status\"]]\n",
    "ssvdf.head()"
   ]
  },
  {
   "cell_type": "code",
   "execution_count": null,
   "id": "f7fe50f7",
   "metadata": {},
   "outputs": [],
   "source": [
    "# display counts of violation, year\n",
    "ssvdf = ssvdf[(ssvdf.Year > 2014) & (ssvdf.Year < 2024) &(ssvdf.violation != \"NO PARKING-STREET CLEANING\") & (ssvdf.issuing_agency.isin(['DEPARTMENT OF SANITATION', 'POLICE DEPARTMENT']))]\n",
    "## display counts of violation by Year and issuing_agency\n",
    "counts = ssvdf.groupby(by=[\"Year\",\"issuing_agency\" ]).size().sort_values()\n",
    "plot = counts.unstack().plot(kind='bar', \n",
    "                             figsize=(8, 4), \n",
    "                             stacked=True, \n",
    "                             title=f\"Violation Counts by Year and Issuing Agency (ex street cleaning) - pct {pct}\")\n",
    "plot.annotate(f\"Covid Years\", xy=(0.6, -0.2), xycoords='axes fraction',  fontsize=11, color='red')\n",
    "plot.legend(loc='center left', bbox_to_anchor=(1.0, 0.5))\n",
    "plt.savefig(f'data/{pct}.png', bbox_inches='tight')\n",
    "# # display counts in a nice table\n",
    "counts.unstack().fillna(0).astype(int)"
   ]
  },
  {
   "cell_type": "code",
   "execution_count": null,
   "id": "16f11148",
   "metadata": {},
   "outputs": [],
   "source": [
    "ssvdf.violation.value_counts().head(20)"
   ]
  }
 ],
 "metadata": {
  "kernelspec": {
   "display_name": "Python 3 (ipykernel)",
   "language": "python",
   "name": "python3"
  },
  "language_info": {
   "codemirror_mode": {
    "name": "ipython",
    "version": 3
   },
   "file_extension": ".py",
   "mimetype": "text/x-python",
   "name": "python",
   "nbconvert_exporter": "python",
   "pygments_lexer": "ipython3",
   "version": "3.12.2"
  }
 },
 "nbformat": 4,
 "nbformat_minor": 5
}
